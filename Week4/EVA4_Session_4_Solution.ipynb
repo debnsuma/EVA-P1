{
 "cells": [
  {
   "cell_type": "code",
   "execution_count": 1,
   "metadata": {
    "id": "0m2JWFliFfKT"
   },
   "outputs": [],
   "source": [
    "from __future__ import print_function\n",
    "import torch\n",
    "import torch.nn as nn\n",
    "import torch.nn.functional as F\n",
    "import torch.optim as optim\n",
    "from torchvision import datasets, transforms"
   ]
  },
  {
   "cell_type": "code",
   "execution_count": 2,
   "metadata": {},
   "outputs": [],
   "source": [
    "class Net(nn.Module):\n",
    "    def __init__(self):\n",
    "        super(Net, self).__init__()\n",
    "        self.conv1 = nn.Conv2d(1, 8, 3, padding=1)       #input: 28, Output: 28\n",
    "        self.bn1 = nn.BatchNorm2d(8)\n",
    "        \n",
    "        self.conv2 = nn.Conv2d(8, 16, 3, padding=1)      #input: 28, Output: 28\n",
    "        self.bn2 = nn.BatchNorm2d(16)\n",
    "        self.pool1 = nn.MaxPool2d(2, 2)                  #input: 28, Output: 14\n",
    "        self.drop = nn.Dropout(0.25)\n",
    "        \n",
    "        self.conv1x1_a = nn.Conv2d(16, 8, 1)\n",
    "        \n",
    "        self.conv3 = nn.Conv2d(8, 12, 3, padding=1)      #input: 14, Output: 14\n",
    "        self.bn3 = nn.BatchNorm2d(12)\n",
    "        \n",
    "        self.conv4 = nn.Conv2d(12, 16, 3, padding=1)     #input: 14, Output: 14\n",
    "        self.bn4 = nn.BatchNorm2d(16)\n",
    "        self.pool2 = nn.MaxPool2d(2, 2)                  #input: 14, Output:  7\n",
    "        self.drop = nn.Dropout(0.25)\n",
    "        \n",
    "        self.conv1x1_b = nn.Conv2d(16, 8, 1)\n",
    "        \n",
    "        self.conv5 = nn.Conv2d(8, 12, 3)                 #input:  7, Output:  5\n",
    "        self.bn5 = nn.BatchNorm2d(12)\n",
    "        \n",
    "        self.conv6 = nn.Conv2d(12, 16, 3)                #input:  5, Output:  3\n",
    "        self.bn6 = nn.BatchNorm2d(16)\n",
    "        \n",
    "        self.conv7 = nn.Conv2d(16, 10, 3)                #input:  3, Output:  1\n",
    "\n",
    "    def forward(self, x):\n",
    "        x = self.pool1(self.bn2(F.relu(self.conv2(self.bn1(F.relu(self.conv1(x)))))))\n",
    "        x = self.drop(x)\n",
    "        x = self.conv1x1_a(x)\n",
    "        x = self.pool2(self.bn4(F.relu(self.conv4(self.bn3(F.relu(self.conv3(x)))))))\n",
    "        x = self.drop(x)\n",
    "        x = self.conv1x1_b(x)\n",
    "        x = self.bn6(F.relu(self.conv6(self.bn5(F.relu(self.conv5(x))))))\n",
    "        x = self.conv7(x)\n",
    "        x = x.view(-1, 10)\n",
    "        return F.log_softmax(x, dim=1)"
   ]
  },
  {
   "cell_type": "code",
   "execution_count": 3,
   "metadata": {},
   "outputs": [
    {
     "name": "stdout",
     "output_type": "stream",
     "text": [
      "----------------------------------------------------------------\n",
      "        Layer (type)               Output Shape         Param #\n",
      "================================================================\n",
      "            Conv2d-1            [-1, 8, 28, 28]              80\n",
      "       BatchNorm2d-2            [-1, 8, 28, 28]              16\n",
      "            Conv2d-3           [-1, 16, 28, 28]           1,168\n",
      "       BatchNorm2d-4           [-1, 16, 28, 28]              32\n",
      "         MaxPool2d-5           [-1, 16, 14, 14]               0\n",
      "           Dropout-6           [-1, 16, 14, 14]               0\n",
      "            Conv2d-7            [-1, 8, 14, 14]             136\n",
      "            Conv2d-8           [-1, 12, 14, 14]             876\n",
      "       BatchNorm2d-9           [-1, 12, 14, 14]              24\n",
      "           Conv2d-10           [-1, 16, 14, 14]           1,744\n",
      "      BatchNorm2d-11           [-1, 16, 14, 14]              32\n",
      "        MaxPool2d-12             [-1, 16, 7, 7]               0\n",
      "          Dropout-13             [-1, 16, 7, 7]               0\n",
      "           Conv2d-14              [-1, 8, 7, 7]             136\n",
      "           Conv2d-15             [-1, 12, 5, 5]             876\n",
      "      BatchNorm2d-16             [-1, 12, 5, 5]              24\n",
      "           Conv2d-17             [-1, 16, 3, 3]           1,744\n",
      "      BatchNorm2d-18             [-1, 16, 3, 3]              32\n",
      "           Conv2d-19             [-1, 10, 1, 1]           1,450\n",
      "================================================================\n",
      "Total params: 8,370\n",
      "Trainable params: 8,370\n",
      "Non-trainable params: 0\n",
      "----------------------------------------------------------------\n",
      "Input size (MB): 0.00\n",
      "Forward/backward pass size (MB): 0.45\n",
      "Params size (MB): 0.03\n",
      "Estimated Total Size (MB): 0.49\n",
      "----------------------------------------------------------------\n"
     ]
    }
   ],
   "source": [
    "# !pip install torchsummary\n",
    "from torchsummary import summary\n",
    "use_cuda = torch.cuda.is_available()\n",
    "device = torch.device(\"cuda\" if use_cuda else \"cpu\")\n",
    "model = Net().to(device)\n",
    "summary(model, input_size=(1, 28, 28))"
   ]
  },
  {
   "cell_type": "code",
   "execution_count": 4,
   "metadata": {
    "id": "DqTWLaM5GHgH"
   },
   "outputs": [],
   "source": [
    "torch.manual_seed(1)\n",
    "batch_size = 128\n",
    "\n",
    "kwargs = {'num_workers': 1, 'pin_memory': True} if use_cuda else {}\n",
    "train_loader = torch.utils.data.DataLoader(\n",
    "    datasets.MNIST('../data', train=True, download=True,\n",
    "                    transform=transforms.Compose([\n",
    "                        transforms.ToTensor(),\n",
    "                        transforms.Normalize((0.1307,), (0.3081,))\n",
    "                    ])),\n",
    "    batch_size=batch_size, shuffle=True, **kwargs)\n",
    "test_loader = torch.utils.data.DataLoader(\n",
    "    datasets.MNIST('../data', train=False, transform=transforms.Compose([\n",
    "                        transforms.ToTensor(),\n",
    "                        transforms.Normalize((0.1307,), (0.3081,))\n",
    "                    ])),\n",
    "    batch_size=batch_size, shuffle=True, **kwargs)\n"
   ]
  },
  {
   "cell_type": "code",
   "execution_count": 5,
   "metadata": {
    "id": "8fDefDhaFlwH"
   },
   "outputs": [],
   "source": [
    "from tqdm import tqdm\n",
    "def train(model, device, train_loader, optimizer, epoch):\n",
    "    model.train()\n",
    "    pbar = tqdm(train_loader)\n",
    "    correct = 0\n",
    "    processed = 0\n",
    "     \n",
    "    for batch_idx, (data, target) in enumerate(pbar):\n",
    "        data, target = data.to(device), target.to(device)\n",
    "        optimizer.zero_grad()\n",
    "        output = model(data)\n",
    "        loss = F.nll_loss(output, target)\n",
    "        loss.backward()\n",
    "        optimizer.step()\n",
    "\n",
    "        # Update pbar-tqdm\n",
    "\n",
    "        pred = output.argmax(dim=1, keepdim=True)  # get the index of the max log-probability\n",
    "        correct += pred.eq(target.view_as(pred)).sum().item()\n",
    "        processed += len(data)\n",
    "        \n",
    "        pbar.set_description(desc= f'Loss={loss.item()} Batch_id={batch_idx} Accuracy={100*correct/processed:0.2f}')\n",
    "\n",
    "        \n",
    "\n",
    "def test(model, device, test_loader, epoch):\n",
    "    model.eval()\n",
    "    test_loss = 0\n",
    "    correct = 0\n",
    "    with torch.no_grad():\n",
    "        for data, target in test_loader:\n",
    "            data, target = data.to(device), target.to(device)\n",
    "            output = model(data)\n",
    "            test_loss += F.nll_loss(output, target, reduction='sum').item()  # sum up batch loss\n",
    "            pred = output.argmax(dim=1, keepdim=True)  # get the index of the max log-probability\n",
    "            correct += pred.eq(target.view_as(pred)).sum().item()\n",
    "\n",
    "    test_loss /= len(test_loader.dataset)\n",
    "\n",
    "    print('\\nEpoch : {} Test set: Average loss: {:.4f}, Accuracy: {}/{} ({:.2f}%)\\n'.format(epoch,\n",
    "        test_loss, correct, len(test_loader.dataset),\n",
    "        100. * correct / len(test_loader.dataset)))"
   ]
  },
  {
   "cell_type": "code",
   "execution_count": 6,
   "metadata": {
    "id": "MMWbLWO6FuHb",
    "scrolled": false
   },
   "outputs": [
    {
     "name": "stderr",
     "output_type": "stream",
     "text": [
      "Loss=0.11008825898170471 Batch_id=468 Accuracy=92.94: 100%|██████████| 469/469 [00:17<00:00, 27.30it/s] \n",
      "  0%|          | 0/469 [00:00<?, ?it/s]"
     ]
    },
    {
     "name": "stdout",
     "output_type": "stream",
     "text": [
      "\n",
      "Epoch : 1 Test set: Average loss: 0.0537, Accuracy: 9829/10000 (98.29%)\n",
      "\n"
     ]
    },
    {
     "name": "stderr",
     "output_type": "stream",
     "text": [
      "Loss=0.0386141762137413 Batch_id=468 Accuracy=97.58: 100%|██████████| 469/469 [00:17<00:00, 27.29it/s]  \n",
      "  0%|          | 0/469 [00:00<?, ?it/s]"
     ]
    },
    {
     "name": "stdout",
     "output_type": "stream",
     "text": [
      "\n",
      "Epoch : 2 Test set: Average loss: 0.0408, Accuracy: 9870/10000 (98.70%)\n",
      "\n"
     ]
    },
    {
     "name": "stderr",
     "output_type": "stream",
     "text": [
      "Loss=0.10011289268732071 Batch_id=468 Accuracy=98.04: 100%|██████████| 469/469 [00:17<00:00, 26.21it/s] \n",
      "  0%|          | 0/469 [00:00<?, ?it/s]"
     ]
    },
    {
     "name": "stdout",
     "output_type": "stream",
     "text": [
      "\n",
      "Epoch : 3 Test set: Average loss: 0.0354, Accuracy: 9888/10000 (98.88%)\n",
      "\n"
     ]
    },
    {
     "name": "stderr",
     "output_type": "stream",
     "text": [
      "Loss=0.06955646723508835 Batch_id=468 Accuracy=98.31: 100%|██████████| 469/469 [00:17<00:00, 26.56it/s] \n",
      "  0%|          | 0/469 [00:00<?, ?it/s]"
     ]
    },
    {
     "name": "stdout",
     "output_type": "stream",
     "text": [
      "\n",
      "Epoch : 4 Test set: Average loss: 0.0345, Accuracy: 9888/10000 (98.88%)\n",
      "\n"
     ]
    },
    {
     "name": "stderr",
     "output_type": "stream",
     "text": [
      "Loss=0.0231171827763319 Batch_id=468 Accuracy=98.57: 100%|██████████| 469/469 [00:17<00:00, 27.37it/s]  \n",
      "  0%|          | 0/469 [00:00<?, ?it/s]"
     ]
    },
    {
     "name": "stdout",
     "output_type": "stream",
     "text": [
      "\n",
      "Epoch : 5 Test set: Average loss: 0.0320, Accuracy: 9902/10000 (99.02%)\n",
      "\n"
     ]
    },
    {
     "name": "stderr",
     "output_type": "stream",
     "text": [
      "Loss=0.022546662017703056 Batch_id=468 Accuracy=98.75: 100%|██████████| 469/469 [00:17<00:00, 27.28it/s]\n",
      "  0%|          | 0/469 [00:00<?, ?it/s]"
     ]
    },
    {
     "name": "stdout",
     "output_type": "stream",
     "text": [
      "\n",
      "Epoch : 6 Test set: Average loss: 0.0292, Accuracy: 9911/10000 (99.11%)\n",
      "\n"
     ]
    },
    {
     "name": "stderr",
     "output_type": "stream",
     "text": [
      "Loss=0.0796024352312088 Batch_id=468 Accuracy=98.78: 100%|██████████| 469/469 [00:17<00:00, 27.22it/s]   \n",
      "  0%|          | 0/469 [00:00<?, ?it/s]"
     ]
    },
    {
     "name": "stdout",
     "output_type": "stream",
     "text": [
      "\n",
      "Epoch : 7 Test set: Average loss: 0.0267, Accuracy: 9908/10000 (99.08%)\n",
      "\n"
     ]
    },
    {
     "name": "stderr",
     "output_type": "stream",
     "text": [
      "Loss=0.06959753483533859 Batch_id=468 Accuracy=98.86: 100%|██████████| 469/469 [00:17<00:00, 26.96it/s]  \n",
      "  0%|          | 0/469 [00:00<?, ?it/s]"
     ]
    },
    {
     "name": "stdout",
     "output_type": "stream",
     "text": [
      "\n",
      "Epoch : 8 Test set: Average loss: 0.0256, Accuracy: 9919/10000 (99.19%)\n",
      "\n"
     ]
    },
    {
     "name": "stderr",
     "output_type": "stream",
     "text": [
      "Loss=0.02101164311170578 Batch_id=468 Accuracy=98.91: 100%|██████████| 469/469 [00:17<00:00, 27.49it/s]  \n",
      "  0%|          | 0/469 [00:00<?, ?it/s]"
     ]
    },
    {
     "name": "stdout",
     "output_type": "stream",
     "text": [
      "\n",
      "Epoch : 9 Test set: Average loss: 0.0240, Accuracy: 9919/10000 (99.19%)\n",
      "\n"
     ]
    },
    {
     "name": "stderr",
     "output_type": "stream",
     "text": [
      "Loss=0.019080014899373055 Batch_id=468 Accuracy=98.89: 100%|██████████| 469/469 [00:17<00:00, 27.05it/s] \n",
      "  0%|          | 0/469 [00:00<?, ?it/s]"
     ]
    },
    {
     "name": "stdout",
     "output_type": "stream",
     "text": [
      "\n",
      "Epoch : 10 Test set: Average loss: 0.0241, Accuracy: 9923/10000 (99.23%)\n",
      "\n"
     ]
    },
    {
     "name": "stderr",
     "output_type": "stream",
     "text": [
      "Loss=0.0529320202767849 Batch_id=468 Accuracy=99.02: 100%|██████████| 469/469 [00:17<00:00, 27.25it/s]   \n",
      "  0%|          | 0/469 [00:00<?, ?it/s]"
     ]
    },
    {
     "name": "stdout",
     "output_type": "stream",
     "text": [
      "\n",
      "Epoch : 11 Test set: Average loss: 0.0233, Accuracy: 9924/10000 (99.24%)\n",
      "\n"
     ]
    },
    {
     "name": "stderr",
     "output_type": "stream",
     "text": [
      "Loss=0.030029229819774628 Batch_id=468 Accuracy=99.06: 100%|██████████| 469/469 [00:18<00:00, 25.70it/s] \n",
      "  0%|          | 0/469 [00:00<?, ?it/s]"
     ]
    },
    {
     "name": "stdout",
     "output_type": "stream",
     "text": [
      "\n",
      "Epoch : 12 Test set: Average loss: 0.0215, Accuracy: 9930/10000 (99.30%)\n",
      "\n"
     ]
    },
    {
     "name": "stderr",
     "output_type": "stream",
     "text": [
      "Loss=0.006782145705074072 Batch_id=468 Accuracy=99.09: 100%|██████████| 469/469 [00:17<00:00, 27.11it/s] \n",
      "  0%|          | 0/469 [00:00<?, ?it/s]"
     ]
    },
    {
     "name": "stdout",
     "output_type": "stream",
     "text": [
      "\n",
      "Epoch : 13 Test set: Average loss: 0.0205, Accuracy: 9942/10000 (99.42%)\n",
      "\n"
     ]
    },
    {
     "name": "stderr",
     "output_type": "stream",
     "text": [
      "Loss=0.02011214755475521 Batch_id=468 Accuracy=99.06: 100%|██████████| 469/469 [00:17<00:00, 26.83it/s]  \n",
      "  0%|          | 0/469 [00:00<?, ?it/s]"
     ]
    },
    {
     "name": "stdout",
     "output_type": "stream",
     "text": [
      "\n",
      "Epoch : 14 Test set: Average loss: 0.0218, Accuracy: 9925/10000 (99.25%)\n",
      "\n"
     ]
    },
    {
     "name": "stderr",
     "output_type": "stream",
     "text": [
      "Loss=0.010668379254639149 Batch_id=468 Accuracy=99.09: 100%|██████████| 469/469 [00:17<00:00, 27.34it/s] \n",
      "  0%|          | 0/469 [00:00<?, ?it/s]"
     ]
    },
    {
     "name": "stdout",
     "output_type": "stream",
     "text": [
      "\n",
      "Epoch : 15 Test set: Average loss: 0.0193, Accuracy: 9940/10000 (99.40%)\n",
      "\n"
     ]
    },
    {
     "name": "stderr",
     "output_type": "stream",
     "text": [
      "Loss=0.014900021255016327 Batch_id=468 Accuracy=99.14: 100%|██████████| 469/469 [00:17<00:00, 27.31it/s] \n",
      "  0%|          | 0/469 [00:00<?, ?it/s]"
     ]
    },
    {
     "name": "stdout",
     "output_type": "stream",
     "text": [
      "\n",
      "Epoch : 16 Test set: Average loss: 0.0185, Accuracy: 9941/10000 (99.41%)\n",
      "\n"
     ]
    },
    {
     "name": "stderr",
     "output_type": "stream",
     "text": [
      "Loss=0.011625044047832489 Batch_id=468 Accuracy=99.18: 100%|██████████| 469/469 [00:17<00:00, 27.10it/s] \n",
      "  0%|          | 0/469 [00:00<?, ?it/s]"
     ]
    },
    {
     "name": "stdout",
     "output_type": "stream",
     "text": [
      "\n",
      "Epoch : 17 Test set: Average loss: 0.0208, Accuracy: 9929/10000 (99.29%)\n",
      "\n"
     ]
    },
    {
     "name": "stderr",
     "output_type": "stream",
     "text": [
      "Loss=0.05823719501495361 Batch_id=468 Accuracy=99.21: 100%|██████████| 469/469 [00:17<00:00, 27.10it/s]  \n",
      "  0%|          | 0/469 [00:00<?, ?it/s]"
     ]
    },
    {
     "name": "stdout",
     "output_type": "stream",
     "text": [
      "\n",
      "Epoch : 18 Test set: Average loss: 0.0193, Accuracy: 9937/10000 (99.37%)\n",
      "\n"
     ]
    },
    {
     "name": "stderr",
     "output_type": "stream",
     "text": [
      "Loss=0.037506747990846634 Batch_id=468 Accuracy=99.18: 100%|██████████| 469/469 [00:17<00:00, 27.07it/s] \n",
      "  0%|          | 0/469 [00:00<?, ?it/s]"
     ]
    },
    {
     "name": "stdout",
     "output_type": "stream",
     "text": [
      "\n",
      "Epoch : 19 Test set: Average loss: 0.0182, Accuracy: 9937/10000 (99.37%)\n",
      "\n"
     ]
    },
    {
     "name": "stderr",
     "output_type": "stream",
     "text": [
      "Loss=0.007972746156156063 Batch_id=468 Accuracy=99.22: 100%|██████████| 469/469 [00:17<00:00, 26.74it/s]  \n"
     ]
    },
    {
     "name": "stdout",
     "output_type": "stream",
     "text": [
      "\n",
      "Epoch : 20 Test set: Average loss: 0.0175, Accuracy: 9943/10000 (99.43%)\n",
      "\n"
     ]
    }
   ],
   "source": [
    "model = Net().to(device)\n",
    "optimizer = optim.SGD(model.parameters(), lr=0.01, momentum=0.9)\n",
    "\n",
    "for epoch in range(1, 21):\n",
    "    train(model, device, train_loader, optimizer, epoch)\n",
    "    test(model, device, test_loader, epoch)"
   ]
  }
 ],
 "metadata": {
  "accelerator": "GPU",
  "colab": {
   "name": "EVA4 - Session 2.ipynb",
   "provenance": []
  },
  "kernelspec": {
   "display_name": "conda_pytorch_latest_p36",
   "language": "python",
   "name": "conda_pytorch_latest_p36"
  },
  "language_info": {
   "codemirror_mode": {
    "name": "ipython",
    "version": 3
   },
   "file_extension": ".py",
   "mimetype": "text/x-python",
   "name": "python",
   "nbconvert_exporter": "python",
   "pygments_lexer": "ipython3",
   "version": "3.6.10"
  }
 },
 "nbformat": 4,
 "nbformat_minor": 1
}
